{
 "cells": [
  {
   "cell_type": "code",
   "execution_count": 3,
   "metadata": {},
   "outputs": [],
   "source": [
    "import csv\n",
    "\n",
    "examplefile=open('/home/midhun/Documents/yt python/video/music.csv')\n",
    "examplereader=csv.reader(examplefile)\n",
    "exampledata=list(examplereader)"
   ]
  },
  {
   "cell_type": "code",
   "execution_count": 4,
   "metadata": {},
   "outputs": [
    {
     "data": {
      "text/plain": [
       "[['age', 'gender', 'genre'],\n",
       " ['20', '1', 'HipHop'],\n",
       " ['23', '1', 'HipHop'],\n",
       " ['25', '1', 'HipHop'],\n",
       " ['26', '1', 'Jazz'],\n",
       " ['29', '1', 'Jazz'],\n",
       " ['30', '1', 'Jazz'],\n",
       " ['31', '1', 'Classical'],\n",
       " ['33', '1', 'Classical'],\n",
       " ['37', '1', 'Classical'],\n",
       " ['20', '0', 'Dance'],\n",
       " ['21', '0', 'Dance'],\n",
       " ['25', '0', 'Dance'],\n",
       " ['26', '0', 'Acoustic'],\n",
       " ['27', '0', 'Acoustic'],\n",
       " ['30', '0', 'Acoustic'],\n",
       " ['31', '0', 'Classical'],\n",
       " ['34', '0', 'Classical'],\n",
       " ['35', '0', 'Classical']]"
      ]
     },
     "execution_count": 4,
     "metadata": {},
     "output_type": "execute_result"
    }
   ],
   "source": [
    "exampledata"
   ]
  },
  {
   "cell_type": "code",
   "execution_count": 5,
   "metadata": {},
   "outputs": [
    {
     "data": {
      "text/plain": [
       "['age', 'gender', 'genre']"
      ]
     },
     "execution_count": 5,
     "metadata": {},
     "output_type": "execute_result"
    }
   ],
   "source": [
    "exampledata[0]"
   ]
  },
  {
   "cell_type": "code",
   "execution_count": 7,
   "metadata": {},
   "outputs": [
    {
     "name": "stdout",
     "output_type": "stream",
     "text": [
      "['age', 'gender', 'genre']\n",
      "age\n",
      "gender\n",
      "genre\n",
      "['20', '1', 'HipHop']\n",
      "20\n",
      "1\n",
      "HipHop\n",
      "['23', '1', 'HipHop']\n",
      "23\n",
      "1\n",
      "HipHop\n",
      "['25', '1', 'HipHop']\n",
      "25\n",
      "1\n",
      "HipHop\n",
      "['26', '1', 'Jazz']\n",
      "26\n",
      "1\n",
      "Jazz\n",
      "['29', '1', 'Jazz']\n",
      "29\n",
      "1\n",
      "Jazz\n",
      "['30', '1', 'Jazz']\n",
      "30\n",
      "1\n",
      "Jazz\n",
      "['31', '1', 'Classical']\n",
      "31\n",
      "1\n",
      "Classical\n",
      "['33', '1', 'Classical']\n",
      "33\n",
      "1\n",
      "Classical\n",
      "['37', '1', 'Classical']\n",
      "37\n",
      "1\n",
      "Classical\n",
      "['20', '0', 'Dance']\n",
      "20\n",
      "0\n",
      "Dance\n",
      "['21', '0', 'Dance']\n",
      "21\n",
      "0\n",
      "Dance\n",
      "['25', '0', 'Dance']\n",
      "25\n",
      "0\n",
      "Dance\n",
      "['26', '0', 'Acoustic']\n",
      "26\n",
      "0\n",
      "Acoustic\n",
      "['27', '0', 'Acoustic']\n",
      "27\n",
      "0\n",
      "Acoustic\n",
      "['30', '0', 'Acoustic']\n",
      "30\n",
      "0\n",
      "Acoustic\n",
      "['31', '0', 'Classical']\n",
      "31\n",
      "0\n",
      "Classical\n",
      "['34', '0', 'Classical']\n",
      "34\n",
      "0\n",
      "Classical\n",
      "['35', '0', 'Classical']\n",
      "35\n",
      "0\n",
      "Classical\n"
     ]
    }
   ],
   "source": [
    "for row in exampledata:\n",
    "    print(row)\n",
    "    for item in row:\n",
    "        print(item)"
   ]
  },
  {
   "cell_type": "markdown",
   "metadata": {},
   "source": [
    "### writing a csv\n"
   ]
  },
  {
   "cell_type": "code",
   "execution_count": 8,
   "metadata": {},
   "outputs": [],
   "source": [
    "outputfile=open('output.csv','w',newline='')\n",
    "outputwriter=csv.writer(outputfile)\n",
    "outputwriter.writerow(['spam','eggs','bacon'])\n",
    "\n",
    "outputfile.close()"
   ]
  },
  {
   "cell_type": "code",
   "execution_count": 7,
   "metadata": {},
   "outputs": [
    {
     "name": "stdout",
     "output_type": "stream",
     "text": [
      "['71845ed', '60c7460', 'd25faba', '5aac777']\n"
     ]
    }
   ],
   "source": [
    "import csv\n",
    "import json\n",
    "\n",
    "outputfile=open('data.csv','w',newline='')\n",
    "outputwriter=csv.writer(outputfile)\n",
    "\n",
    "with open('/home/midhun/Documents/python_workshop/data.json') as f:\n",
    "    info = json.load(f)\n",
    "    \n",
    "    \n",
    "outputwriter.writerow([\"backend_name\",info['backend_version']])\n",
    "outputwriter.writerow([\"category\",info['category']])\n",
    "outputwriter.writerow([\"commit\",info['data']['Commit']])\n",
    "outputwriter.writerow([\"Timestamp\",info['timestamp']])\n",
    "outputwriter.writerow([\"uuid\",info['uuid']])\n",
    "\n",
    "s=0\n",
    "for item in info['data']['files']:\n",
    "    s=s+int(item['removed'])\n",
    "\n",
    "index_list=info['data']['files']\n",
    "\n",
    "list1=[]\n",
    "for item in index_list:\n",
    "    a=item['indexes']\n",
    "#     print(a)\n",
    "    for elements in a:\n",
    "        list1.append(elements)\n",
    "print(list1)\n",
    "\n",
    "outputwriter.writerow([\"removed\",[s]])\n",
    "outputfile.close()"
   ]
  },
  {
   "cell_type": "code",
   "execution_count": 9,
   "metadata": {},
   "outputs": [],
   "source": [
    "D1 = {1:'a', 2:'b', 3:'c'} \n",
    "# for k in D1.keys():\n",
    "#     print (k, D1[k])\n"
   ]
  },
  {
   "cell_type": "code",
   "execution_count": 13,
   "metadata": {},
   "outputs": [
    {
     "data": {
      "text/plain": [
       "[]"
      ]
     },
     "execution_count": 13,
     "metadata": {},
     "output_type": "execute_result"
    }
   ],
   "source": [
    "import re\n",
    "\n",
    "match = re.compile(r\"(^[a-zA-Z0-9_.+-]+@[a-zA-Z0-9-]+\\.[a-zA-Z0-9-.]+$)\")\n",
    "match.findall(info['data']['Author'])"
   ]
  },
  {
   "cell_type": "code",
   "execution_count": null,
   "metadata": {},
   "outputs": [],
   "source": []
  },
  {
   "cell_type": "code",
   "execution_count": null,
   "metadata": {},
   "outputs": [],
   "source": []
  }
 ],
 "metadata": {
  "kernelspec": {
   "display_name": "Python 3",
   "language": "python",
   "name": "python3"
  },
  "language_info": {
   "codemirror_mode": {
    "name": "ipython",
    "version": 3
   },
   "file_extension": ".py",
   "mimetype": "text/x-python",
   "name": "python",
   "nbconvert_exporter": "python",
   "pygments_lexer": "ipython3",
   "version": "3.7.3"
  }
 },
 "nbformat": 4,
 "nbformat_minor": 2
}
