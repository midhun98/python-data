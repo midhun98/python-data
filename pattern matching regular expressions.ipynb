{
 "cells": [
  {
   "cell_type": "code",
   "execution_count": 11,
   "metadata": {},
   "outputs": [],
   "source": [
    "import re\n",
    "\n",
    "phonenum=re.compile(r'\\d\\d\\d-\\d\\d\\d-\\d\\d\\d\\d')\n",
    "mo=phonenum.search(\"my number is 414-123-1344 and my future phine no. will be 319-098-8373\")\n"
   ]
  },
  {
   "cell_type": "code",
   "execution_count": 12,
   "metadata": {},
   "outputs": [
    {
     "name": "stdout",
     "output_type": "stream",
     "text": [
      "<re.Match object; span=(13, 25), match='414-123-1344'>\n"
     ]
    }
   ],
   "source": [
    "print(mo)"
   ]
  },
  {
   "cell_type": "code",
   "execution_count": 15,
   "metadata": {},
   "outputs": [
    {
     "name": "stdout",
     "output_type": "stream",
     "text": [
      "()\n"
     ]
    }
   ],
   "source": [
    "print(mo.groups(0)) #mo.group will work only in .search"
   ]
  },
  {
   "cell_type": "code",
   "execution_count": 43,
   "metadata": {},
   "outputs": [
    {
     "name": "stdout",
     "output_type": "stream",
     "text": [
      "<re.Match object; span=(0, 9), match='Batmobile'>\n"
     ]
    }
   ],
   "source": [
    "batRegex=re.compile(r'Bat(man|mobile|copter|bat)')\n",
    "mo=batRegex.search('Batmobile lost a wheel')\n",
    "print(mo)"
   ]
  },
  {
   "cell_type": "code",
   "execution_count": 5,
   "metadata": {},
   "outputs": [
    {
     "name": "stdout",
     "output_type": "stream",
     "text": [
      "hahaha\n",
      "hahaha\n",
      "True\n"
     ]
    }
   ],
   "source": [
    "haregex=re.compile(r'(ha){3}')\n",
    "\n",
    "mo1=haregex.search('hahaha')\n",
    "print(mo1.group())\n",
    "\n",
    "mo2=haregex.search('hahahahaha')\n",
    "print(mo2.group())\n",
    "\n",
    "mo3=haregex.search(\"ha\")\n",
    "print(mo3==None)"
   ]
  },
  {
   "cell_type": "code",
   "execution_count": 9,
   "metadata": {},
   "outputs": [
    {
     "name": "stdout",
     "output_type": "stream",
     "text": [
      "hahaha\n"
     ]
    }
   ],
   "source": [
    "greedyregex=re.compile(r'(ha){3,5}')\n",
    "mo1=haregex.search('hahahahahaha')\n",
    "print(mo1.group())"
   ]
  },
  {
   "cell_type": "code",
   "execution_count": 10,
   "metadata": {},
   "outputs": [
    {
     "name": "stdout",
     "output_type": "stream",
     "text": [
      "hahaha\n"
     ]
    }
   ],
   "source": [
    "greedyregex=re.compile(r'(ha){3,5}?')\n",
    "mo1=haregex.search('hahahahahaha')\n",
    "print(mo1.group())"
   ]
  },
  {
   "cell_type": "code",
   "execution_count": 16,
   "metadata": {},
   "outputs": [
    {
     "data": {
      "text/plain": [
       "['+91-8825732891', '+91-9553664455']"
      ]
     },
     "execution_count": 16,
     "metadata": {},
     "output_type": "execute_result"
    }
   ],
   "source": [
    "phonenumregex=re.compile(r'\\+91-[\\d]{10}')\n",
    "phonenumregex.findall('phone:+91-8825732891  work:+91-955366445544')"
   ]
  },
  {
   "cell_type": "code",
   "execution_count": null,
   "metadata": {},
   "outputs": [],
   "source": []
  }
 ],
 "metadata": {
  "kernelspec": {
   "display_name": "Python 3",
   "language": "python",
   "name": "python3"
  },
  "language_info": {
   "codemirror_mode": {
    "name": "ipython",
    "version": 3
   },
   "file_extension": ".py",
   "mimetype": "text/x-python",
   "name": "python",
   "nbconvert_exporter": "python",
   "pygments_lexer": "ipython3",
   "version": "3.7.3"
  }
 },
 "nbformat": 4,
 "nbformat_minor": 2
}
