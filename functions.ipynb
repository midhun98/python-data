{
 "cells": [
  {
   "cell_type": "code",
   "execution_count": 35,
   "metadata": {},
   "outputs": [
    {
     "name": "stdout",
     "output_type": "stream",
     "text": [
      "7\n",
      "2\n",
      "10\n",
      "6\n",
      "10\n"
     ]
    }
   ],
   "source": [
    "#importing a module normally\n",
    "import random\n",
    "for i in range(5):\n",
    "    print(random.randint(1,10))"
   ]
  },
  {
   "cell_type": "code",
   "execution_count": 36,
   "metadata": {},
   "outputs": [
    {
     "name": "stdout",
     "output_type": "stream",
     "text": [
      "8\n",
      "6\n",
      "6\n",
      "10\n",
      "2\n"
     ]
    }
   ],
   "source": [
    "# importing a module using an object\n",
    "import random as rd\n",
    "for i in range(5):\n",
    "    print(rd.randint(1,10))"
   ]
  },
  {
   "cell_type": "code",
   "execution_count": 37,
   "metadata": {},
   "outputs": [
    {
     "name": "stdout",
     "output_type": "stream",
     "text": [
      "30\n",
      "77\n",
      "99\n",
      "65\n",
      "20\n"
     ]
    }
   ],
   "source": [
    "#importing one function as an object\n",
    "from random import randint\n",
    "for i in range(5):\n",
    "    print(randint(1,100))\n",
    "    "
   ]
  },
  {
   "cell_type": "code",
   "execution_count": 38,
   "metadata": {},
   "outputs": [
    {
     "name": "stdout",
     "output_type": "stream",
     "text": [
      "2\n",
      "2\n",
      "2\n",
      "5\n",
      "3\n"
     ]
    }
   ],
   "source": [
    "from random import randint as ri\n",
    "for i in range(5):\n",
    "    print(ri(1,10))"
   ]
  },
  {
   "cell_type": "code",
   "execution_count": 39,
   "metadata": {},
   "outputs": [
    {
     "name": "stdout",
     "output_type": "stream",
     "text": [
      "5\n",
      "4\n",
      "2\n",
      "7\n",
      "3\n"
     ]
    }
   ],
   "source": [
    "from random import * #imports all the functions\n",
    "for i in range(5):\n",
    "    print(randint(1,10))"
   ]
  },
  {
   "cell_type": "markdown",
   "metadata": {},
   "source": [
    "###  Functions"
   ]
  },
  {
   "cell_type": "code",
   "execution_count": 41,
   "metadata": {},
   "outputs": [
    {
     "name": "stdout",
     "output_type": "stream",
     "text": [
      "midhun\n",
      "midhun\n"
     ]
    }
   ],
   "source": [
    "def getname():\n",
    "    print(\"midhun\")\n",
    "    print(\"midhun\")\n",
    "getname()"
   ]
  },
  {
   "cell_type": "code",
   "execution_count": 42,
   "metadata": {},
   "outputs": [
    {
     "name": "stdout",
     "output_type": "stream",
     "text": [
      "midhun\n",
      "midhun\n",
      "midhun\n",
      "midhun\n"
     ]
    }
   ],
   "source": [
    "getname()\n",
    "getname()"
   ]
  },
  {
   "cell_type": "code",
   "execution_count": 44,
   "metadata": {},
   "outputs": [
    {
     "name": "stdout",
     "output_type": "stream",
     "text": [
      "i want 3 bread\n",
      "i want 5 bread\n"
     ]
    }
   ],
   "source": [
    "def getBread(number):\n",
    "    print(\"i want \"+str(number)+\" bread\")\n",
    "getBread(3)\n",
    "getBread(5)"
   ]
  },
  {
   "cell_type": "code",
   "execution_count": 45,
   "metadata": {},
   "outputs": [
    {
     "name": "stdout",
     "output_type": "stream",
     "text": [
      "i want 10 bread\n"
     ]
    }
   ],
   "source": [
    "getBread(10)"
   ]
  },
  {
   "cell_type": "code",
   "execution_count": 46,
   "metadata": {},
   "outputs": [
    {
     "data": {
      "text/plain": [
       "6"
      ]
     },
     "execution_count": 46,
     "metadata": {},
     "output_type": "execute_result"
    }
   ],
   "source": [
    "def makeItEven(n):\n",
    "    return n*2\n",
    "makeItEven(3)"
   ]
  },
  {
   "cell_type": "code",
   "execution_count": 50,
   "metadata": {},
   "outputs": [
    {
     "name": "stdout",
     "output_type": "stream",
     "text": [
      "None\n"
     ]
    }
   ],
   "source": [
    "def getNone():\n",
    "    return None\n",
    "\n",
    "getNone()\n",
    "print(getNone())"
   ]
  },
  {
   "cell_type": "code",
   "execution_count": 60,
   "metadata": {},
   "outputs": [
    {
     "name": "stdout",
     "output_type": "stream",
     "text": [
      "8\n"
     ]
    }
   ],
   "source": [
    "def getDosa():\n",
    "    dosa=8\n",
    "    return dosa\n",
    "#     print(dosa)\n",
    "getDosa()\n",
    "print(getDosa())"
   ]
  },
  {
   "cell_type": "code",
   "execution_count": 61,
   "metadata": {},
   "outputs": [
    {
     "name": "stdout",
     "output_type": "stream",
     "text": [
      "dosa= 3\n",
      "3\n"
     ]
    }
   ],
   "source": [
    "dosa=3\n",
    "\n",
    "def getDosa():\n",
    "    print(\"dosa=\",dosa)\n",
    "\n",
    "getDosa()\n",
    "print(dosa)"
   ]
  },
  {
   "cell_type": "code",
   "execution_count": 62,
   "metadata": {},
   "outputs": [
    {
     "name": "stdout",
     "output_type": "stream",
     "text": [
      "dosa= 8\n",
      "Dosa =  3\n"
     ]
    }
   ],
   "source": [
    "dosa=3\n",
    "\n",
    "def getDosa():\n",
    "    dosa=8\n",
    "    print(\"dosa=\",dosa)\n",
    "getDosa()\n",
    "\n",
    "print(\"Dosa = \",dosa)"
   ]
  },
  {
   "cell_type": "code",
   "execution_count": 64,
   "metadata": {},
   "outputs": [
    {
     "name": "stdout",
     "output_type": "stream",
     "text": [
      "dosa= 8\n",
      "dosa= 8\n"
     ]
    }
   ],
   "source": [
    "def getDosa():\n",
    "    global dosa\n",
    "    dosa=8\n",
    "    print(\"dosa=\",dosa)\n",
    "getDosa()\n",
    "print(\"dosa=\",dosa)"
   ]
  },
  {
   "cell_type": "code",
   "execution_count": 73,
   "metadata": {},
   "outputs": [
    {
     "name": "stdout",
     "output_type": "stream",
     "text": [
      "dosa= 3\n"
     ]
    },
    {
     "data": {
      "text/plain": [
       "8"
      ]
     },
     "execution_count": 73,
     "metadata": {},
     "output_type": "execute_result"
    }
   ],
   "source": [
    "def getDosa():\n",
    "#     print(\"dosa=\",dosa)\n",
    "    dosa=8\n",
    "    return dosa\n",
    "dosa=3\n",
    "getDosa()\n",
    "print(\"dosa=\",dosa)\n",
    "getDosa()"
   ]
  },
  {
   "cell_type": "code",
   "execution_count": 74,
   "metadata": {},
   "outputs": [
    {
     "name": "stdout",
     "output_type": "stream",
     "text": [
      "1.0\n",
      "4.0\n"
     ]
    }
   ],
   "source": [
    "def divideby(n):\n",
    "    return 4/n\n",
    "print(divideby(4))\n",
    "print(divideby(1))"
   ]
  },
  {
   "cell_type": "code",
   "execution_count": 76,
   "metadata": {},
   "outputs": [
    {
     "name": "stdout",
     "output_type": "stream",
     "text": [
      "1.0\n",
      "2.0\n",
      "invalid\n",
      "None\n"
     ]
    }
   ],
   "source": [
    "def divideby(n):\n",
    "    try:\n",
    "        return 4/n\n",
    "    except ZeroDivisionError:\n",
    "        print(\"invalid\")\n",
    "print(divideby(4))\n",
    "print(divideby(2))\n",
    "print(divideby(0))"
   ]
  },
  {
   "cell_type": "code",
   "execution_count": 77,
   "metadata": {},
   "outputs": [
    {
     "name": "stdout",
     "output_type": "stream",
     "text": [
      "1.0\n",
      "4.0\n",
      "invalid\n"
     ]
    }
   ],
   "source": [
    "def divideby(n):\n",
    "    return 4/n\n",
    "\n",
    "try:\n",
    "    print(divideby(4))\n",
    "    print(divideby(1))\n",
    "    print(divideby(0))\n",
    "    \n",
    "except ZeroDivisionError:\n",
    "    print(\"invalid\")"
   ]
  },
  {
   "cell_type": "code",
   "execution_count": 92,
   "metadata": {},
   "outputs": [
    {
     "name": "stdout",
     "output_type": "stream",
     "text": [
      "enter a number between 1 and 20: 16\n",
      "u r right\n",
      "you guessed my number in 0 guesses\n"
     ]
    }
   ],
   "source": [
    "counter=0\n",
    "guess=16\n",
    "while(True):\n",
    "    a=int(input(\"enter a number between 1 and 20: \"))\n",
    "    if(a<=15):\n",
    "        print(\"ur guess is too low\")\n",
    "        counter=counter+1\n",
    "    elif(a>17):\n",
    "        print(\"ur guess is too high\")\n",
    "        counter=counter+1\n",
    "    elif(a==16):\n",
    "        print(\"u r right\")\n",
    "        print(\"you guessed my number in\",counter,\"guesses\")\n",
    "        break"
   ]
  },
  {
   "cell_type": "code",
   "execution_count": 126,
   "metadata": {},
   "outputs": [
    {
     "name": "stdout",
     "output_type": "stream",
     "text": [
      "4.0\n"
     ]
    }
   ],
   "source": [
    "def collatz(number):\n",
    "    if (number%2==0):\n",
    "        print(number/2)\n",
    "    elif(number%2!=0):\n",
    "        print (3*number)+1\n",
    "collatz(8)"
   ]
  },
  {
   "cell_type": "code",
   "execution_count": 127,
   "metadata": {},
   "outputs": [
    {
     "name": "stdout",
     "output_type": "stream",
     "text": [
      "typeerror\n"
     ]
    }
   ],
   "source": [
    "def collatz(number):\n",
    "    try:\n",
    "        if (number%2==0):\n",
    "            return number/2\n",
    "        elif(number%2!=0):\n",
    "            return (3*number)+1\n",
    "    except NameError:\n",
    "        return \"invalid\"\n",
    "    except TypeError:\n",
    "        return \"type error\"\n",
    "        \n",
    "print(collatz('asdas'))"
   ]
  }
 ],
 "metadata": {
  "kernelspec": {
   "display_name": "Python 3",
   "language": "python",
   "name": "python3"
  },
  "language_info": {
   "codemirror_mode": {
    "name": "ipython",
    "version": 3
   },
   "file_extension": ".py",
   "mimetype": "text/x-python",
   "name": "python",
   "nbconvert_exporter": "python",
   "pygments_lexer": "ipython3",
   "version": "3.7.3"
  }
 },
 "nbformat": 4,
 "nbformat_minor": 2
}
